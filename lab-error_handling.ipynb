{
 "cells": [
  {
   "cell_type": "markdown",
   "metadata": {},
   "source": [
    "# LAB | Error Handling in Python\n",
    "\n",
    "## Overview\n",
    "This exercise notebook will help you practice error handling in Python using exceptions. You will write programs that handle various types of exceptions to ensure your code runs smoothly and handles errors gracefully."
   ]
  },
  {
   "cell_type": "markdown",
   "metadata": {},
   "source": [
    "### Exercise 1: Handle ZeroDivisionError\n",
    "Write a Python program to handle a `ZeroDivisionError` exception when dividing a number by zero.\n"
   ]
  },
  {
   "cell_type": "code",
   "execution_count": 7,
   "metadata": {},
   "outputs": [
    {
     "name": "stdout",
     "output_type": "stream",
     "text": [
      "ZeroDivisionError: division by zero\n"
     ]
    }
   ],
   "source": [
    "# Your code here\n",
    "\n",
    "try:\n",
    "    result = 10 / 0\n",
    "except ZeroDivisionError as e:\n",
    "    print(\"ZeroDivisionError:\", e)\n"
   ]
  },
  {
   "cell_type": "markdown",
   "metadata": {},
   "source": [
    "\n",
    "### Exercise 2: Raise ValueError for Invalid Input\n",
    "Write a Python program that prompts the user to input an integer and raises a `ValueError` exception if the input is not a valid integer.\n",
    "\n"
   ]
  },
  {
   "cell_type": "code",
   "execution_count": 3,
   "metadata": {},
   "outputs": [],
   "source": [
    "# Your code here\n",
    "try:\n",
    "    number = int(input(\"input a number\"))\n",
    "except ValueError as e:\n",
    "    print(\"ValueError:\", e)\n"
   ]
  },
  {
   "cell_type": "markdown",
   "metadata": {},
   "source": [
    "\n",
    "\n",
    "### Exercise 3: Handle FileNotFoundError\n",
    "Write a Python program that opens a file and handles a `FileNotFoundError` exception if the file does not exist.\n",
    "\n"
   ]
  },
  {
   "cell_type": "code",
   "execution_count": 7,
   "metadata": {},
   "outputs": [
    {
     "name": "stdout",
     "output_type": "stream",
     "text": [
      "FileNotFoundError:  [Errno 2] No such file or directory: 'test.txt'\n"
     ]
    }
   ],
   "source": [
    "# Your code here\n",
    "try:\n",
    "    f = open(\"test.txt\", \"r\")\n",
    "except FileNotFoundError as e:\n",
    "    print(\"FileNotFoundError: \",e)"
   ]
  },
  {
   "cell_type": "markdown",
   "metadata": {},
   "source": [
    "\n",
    "\n",
    "### Exercise 4: Raise TypeError for Non-Numerical Input\n",
    "Write a Python program that prompts the user to input two numbers and raises a `TypeError` exception if the inputs are not numerical.\n",
    "\n"
   ]
  },
  {
   "cell_type": "code",
   "execution_count": null,
   "metadata": {},
   "outputs": [
    {
     "ename": "TypeError",
     "evalue": "Both inputs must be numbers.",
     "output_type": "error",
     "traceback": [
      "\u001b[1;31m---------------------------------------------------------------------------\u001b[0m",
      "\u001b[1;31mValueError\u001b[0m                                Traceback (most recent call last)",
      "Cell \u001b[1;32mIn[11], line 3\u001b[0m\n\u001b[0;32m      2\u001b[0m \u001b[38;5;28;01mtry\u001b[39;00m:\n\u001b[1;32m----> 3\u001b[0m     num1 \u001b[38;5;241m=\u001b[39m \u001b[38;5;28mfloat\u001b[39m(\u001b[38;5;28minput\u001b[39m(\u001b[38;5;124m\"\u001b[39m\u001b[38;5;124minput a number\u001b[39m\u001b[38;5;124m\"\u001b[39m))\n\u001b[0;32m      4\u001b[0m     num2 \u001b[38;5;241m=\u001b[39m \u001b[38;5;28mfloat\u001b[39m(\u001b[38;5;28minput\u001b[39m(\u001b[38;5;124m\"\u001b[39m\u001b[38;5;124minput a number\u001b[39m\u001b[38;5;124m\"\u001b[39m))\n",
      "\u001b[1;31mValueError\u001b[0m: could not convert string to float: 'ss'",
      "\nDuring handling of the above exception, another exception occurred:\n",
      "\u001b[1;31mTypeError\u001b[0m                                 Traceback (most recent call last)",
      "Cell \u001b[1;32mIn[11], line 6\u001b[0m\n\u001b[0;32m      4\u001b[0m     num2 \u001b[38;5;241m=\u001b[39m \u001b[38;5;28mfloat\u001b[39m(\u001b[38;5;28minput\u001b[39m(\u001b[38;5;124m\"\u001b[39m\u001b[38;5;124minput a number\u001b[39m\u001b[38;5;124m\"\u001b[39m))\n\u001b[0;32m      5\u001b[0m \u001b[38;5;28;01mexcept\u001b[39;00m \u001b[38;5;167;01mValueError\u001b[39;00m:\n\u001b[1;32m----> 6\u001b[0m     \u001b[38;5;28;01mraise\u001b[39;00m \u001b[38;5;167;01mTypeError\u001b[39;00m(\u001b[38;5;124m\"\u001b[39m\u001b[38;5;124mBoth inputs must be numbers.\u001b[39m\u001b[38;5;124m\"\u001b[39m)\n",
      "\u001b[1;31mTypeError\u001b[0m: Both inputs must be numbers."
     ]
    }
   ],
   "source": [
    "# Your code here\n",
    "try:\n",
    "    num1 = float(input(\"input a number\"))\n",
    "    num2 = float(input(\"input a number\"))\n",
    "except ValueError:\n",
    "    raise TypeError(\"Both inputs must be numbers\")\n"
   ]
  },
  {
   "cell_type": "markdown",
   "metadata": {},
   "source": [
    "\n",
    "\n",
    "### Exercise 5: Handle PermissionError\n",
    "Write a Python program that opens a file and handles a `PermissionError` exception if there is a permission issue.\n",
    "\n",
    "\n"
   ]
  },
  {
   "cell_type": "code",
   "execution_count": null,
   "metadata": {},
   "outputs": [
    {
     "name": "stdout",
     "output_type": "stream",
     "text": [
      "PermissionError:  [Errno 13] Permission denied: 'C:\\\\Windows'\n"
     ]
    }
   ],
   "source": [
    "# Your code here\n",
    "try:\n",
    "    with open(\"test2.txt\", \"r\") as file: \n",
    "        content = file.read()\n",
    "except PermissionError as e:\n",
    "    print('PermissionError: ', e)"
   ]
  },
  {
   "cell_type": "markdown",
   "metadata": {},
   "source": [
    "\n",
    "\n",
    "### Exercise 6: Handle IndexError in List Operations\n",
    "Write a Python program that executes an operation on a list and handles an `IndexError` exception if the index is out of range.\n",
    "\n",
    "\n"
   ]
  },
  {
   "cell_type": "code",
   "execution_count": 14,
   "metadata": {},
   "outputs": [
    {
     "name": "stdout",
     "output_type": "stream",
     "text": [
      "IndexError:  list index out of range\n"
     ]
    }
   ],
   "source": [
    "# Your code here\n",
    "list_error = [0]\n",
    "try:\n",
    "    list_error[1]\n",
    "except IndexError as e:\n",
    "    print(\"IndexError: \",e )"
   ]
  },
  {
   "cell_type": "markdown",
   "metadata": {},
   "source": [
    "\n",
    "\n",
    "### Exercise 7: Handle KeyboardInterrupt Exception\n",
    "Write a Python program that prompts the user to input a number and handles a `KeyboardInterrupt` exception if the user cancels the input.\n",
    "\n"
   ]
  },
  {
   "cell_type": "code",
   "execution_count": 30,
   "metadata": {},
   "outputs": [],
   "source": [
    "# Your code here\n",
    "try: \n",
    "    test = input('enter number')\n",
    "except KeyboardInterrupt as e:\n",
    "    print('KeyboardInterrupt: ', e)"
   ]
  },
  {
   "cell_type": "markdown",
   "metadata": {},
   "source": [
    "\n",
    "\n",
    "### Exercise 8: Handle ArithmeticError\n",
    "Write a Python program that executes division and handles an `ArithmeticError` exception if there is an arithmetic error.\n",
    "\n"
   ]
  },
  {
   "cell_type": "code",
   "execution_count": 31,
   "metadata": {},
   "outputs": [
    {
     "name": "stdout",
     "output_type": "stream",
     "text": [
      "AritmeticError:  division by zero\n"
     ]
    }
   ],
   "source": [
    "# Your code here\n",
    "try: \n",
    "    1/0\n",
    "except ArithmeticError as e:\n",
    "    print('AritmeticError: ', e)"
   ]
  },
  {
   "cell_type": "markdown",
   "metadata": {},
   "source": [
    "\n",
    "\n",
    "### Exercise 9: Handle UnicodeDecodeError\n",
    "Write a Python program that opens a file and handles a `UnicodeDecodeError` exception if there is an encoding issue.\n",
    "\n"
   ]
  },
  {
   "cell_type": "code",
   "execution_count": 32,
   "metadata": {},
   "outputs": [
    {
     "ename": "FileNotFoundError",
     "evalue": "[Errno 2] No such file or directory: 'test.txt'",
     "output_type": "error",
     "traceback": [
      "\u001b[1;31m---------------------------------------------------------------------------\u001b[0m",
      "\u001b[1;31mFileNotFoundError\u001b[0m                         Traceback (most recent call last)",
      "Cell \u001b[1;32mIn[32], line 3\u001b[0m\n\u001b[0;32m      1\u001b[0m \u001b[38;5;66;03m# Your code here\u001b[39;00m\n\u001b[0;32m      2\u001b[0m \u001b[38;5;28;01mtry\u001b[39;00m: \n\u001b[1;32m----> 3\u001b[0m     \u001b[38;5;28;01mwith\u001b[39;00m \u001b[38;5;28mopen\u001b[39m(\u001b[38;5;124m\"\u001b[39m\u001b[38;5;124mtest.txt\u001b[39m\u001b[38;5;124m\"\u001b[39m, \u001b[38;5;124m\"\u001b[39m\u001b[38;5;124mr\u001b[39m\u001b[38;5;124m\"\u001b[39m) \u001b[38;5;28;01mas\u001b[39;00m file:\n\u001b[0;32m      4\u001b[0m         content \u001b[38;5;241m=\u001b[39m file\u001b[38;5;241m.\u001b[39mread()\n\u001b[0;32m      6\u001b[0m \u001b[38;5;28;01mexcept\u001b[39;00m \u001b[38;5;167;01mUnicodeDecodeError\u001b[39;00m \u001b[38;5;28;01mas\u001b[39;00m e:\n",
      "File \u001b[1;32mc:\\Users\\Lain\\anaconda3\\Lib\\site-packages\\IPython\\core\\interactiveshell.py:324\u001b[0m, in \u001b[0;36m_modified_open\u001b[1;34m(file, *args, **kwargs)\u001b[0m\n\u001b[0;32m    317\u001b[0m \u001b[38;5;28;01mif\u001b[39;00m file \u001b[38;5;129;01min\u001b[39;00m {\u001b[38;5;241m0\u001b[39m, \u001b[38;5;241m1\u001b[39m, \u001b[38;5;241m2\u001b[39m}:\n\u001b[0;32m    318\u001b[0m     \u001b[38;5;28;01mraise\u001b[39;00m \u001b[38;5;167;01mValueError\u001b[39;00m(\n\u001b[0;32m    319\u001b[0m         \u001b[38;5;124mf\u001b[39m\u001b[38;5;124m\"\u001b[39m\u001b[38;5;124mIPython won\u001b[39m\u001b[38;5;124m'\u001b[39m\u001b[38;5;124mt let you open fd=\u001b[39m\u001b[38;5;132;01m{\u001b[39;00mfile\u001b[38;5;132;01m}\u001b[39;00m\u001b[38;5;124m by default \u001b[39m\u001b[38;5;124m\"\u001b[39m\n\u001b[0;32m    320\u001b[0m         \u001b[38;5;124m\"\u001b[39m\u001b[38;5;124mas it is likely to crash IPython. If you know what you are doing, \u001b[39m\u001b[38;5;124m\"\u001b[39m\n\u001b[0;32m    321\u001b[0m         \u001b[38;5;124m\"\u001b[39m\u001b[38;5;124myou can use builtins\u001b[39m\u001b[38;5;124m'\u001b[39m\u001b[38;5;124m open.\u001b[39m\u001b[38;5;124m\"\u001b[39m\n\u001b[0;32m    322\u001b[0m     )\n\u001b[1;32m--> 324\u001b[0m \u001b[38;5;28;01mreturn\u001b[39;00m io_open(file, \u001b[38;5;241m*\u001b[39margs, \u001b[38;5;241m*\u001b[39m\u001b[38;5;241m*\u001b[39mkwargs)\n",
      "\u001b[1;31mFileNotFoundError\u001b[0m: [Errno 2] No such file or directory: 'test.txt'"
     ]
    }
   ],
   "source": [
    "# Your code here\n",
    "try: \n",
    "    with open(\"test.txt\", \"r\") as file:\n",
    "        content = file.read()\n",
    "\n",
    "except UnicodeDecodeError as e:\n",
    "    print('UnicodeDecodeError: ', e)"
   ]
  },
  {
   "cell_type": "markdown",
   "metadata": {},
   "source": [
    "\n",
    "\n",
    "### Exercise 10: Handle AttributeError\n",
    "Write a Python program that executes an operation on an object and handles an `AttributeError` exception if the attribute does not exist.\n",
    "\n"
   ]
  },
  {
   "cell_type": "code",
   "execution_count": 33,
   "metadata": {},
   "outputs": [
    {
     "name": "stdout",
     "output_type": "stream",
     "text": [
      "AttributeError:  'Testclass' object has no attribute 'name'\n"
     ]
    }
   ],
   "source": [
    "# Your code here\n",
    "class Testclass:\n",
    "    def __init__(self, test):\n",
    "        self.test = test\n",
    "\n",
    "t = Testclass(\"test\")\n",
    "\n",
    "try: \n",
    "    print(t.name)\n",
    "except AttributeError as e:\n",
    "    print('AttributeError: ', e)"
   ]
  },
  {
   "cell_type": "markdown",
   "metadata": {},
   "source": [
    "\n",
    "\n",
    "## Bonus Exercises\n",
    "\n",
    "### Bonus Exercise 1: Handle Multiple Exceptions\n",
    "Write a Python program that demonstrates handling multiple exceptions in one block.\n",
    "\n",
    "\n"
   ]
  },
  {
   "cell_type": "code",
   "execution_count": 43,
   "metadata": {},
   "outputs": [
    {
     "name": "stdout",
     "output_type": "stream",
     "text": [
      "exception: e=ValueError(\"invalid literal for int() with base 10: 's'\"), <class 'ValueError'>\n"
     ]
    }
   ],
   "source": [
    "# Your code here\n",
    "test_list = []\n",
    "try: \n",
    "    number1 = int(input('enter a number'))\n",
    "    number2 = int(input('enter a number'))\n",
    "    number1/number2\n",
    "    test_list[number1]\n",
    "except (ZeroDivisionError, ArithmeticError, TypeError, ValueError, IndexError, KeyboardInterrupt) as e:\n",
    "        print(f\"exception: {e=}, {type(e)}\")"
   ]
  },
  {
   "cell_type": "markdown",
   "metadata": {},
   "source": [
    "\n",
    "\n",
    "### Bonus Exercise 2: Create Custom Exception\n",
    "Create a custom exception class and raise it in your code when certain conditions are met.\n",
    "\n",
    "\n"
   ]
  },
  {
   "cell_type": "code",
   "execution_count": 50,
   "metadata": {},
   "outputs": [
    {
     "name": "stdout",
     "output_type": "stream",
     "text": [
      "custom exception e=MyException('not possible 0')\n"
     ]
    }
   ],
   "source": [
    "# Your code here\n",
    "class MyException(Exception):\n",
    "    pass\n",
    "\n",
    "try: \n",
    "    number = int(input(\"input number\"))\n",
    "    if number == 0:\n",
    "        raise MyException(\"not possible 0\")\n",
    "    print('number is possible')\n",
    "except MyException as e:\n",
    "    print(f\"custom exception {e=}\")"
   ]
  },
  {
   "cell_type": "markdown",
   "metadata": {},
   "source": [
    "\n",
    "\n",
    "### Bonus Exercise 3: Validate User Input with Exception Handling\n",
    "Write a program that repeatedly prompts the user for valid input until they provide it, using exception handling to manage invalid inputs.\n",
    "\n"
   ]
  },
  {
   "cell_type": "code",
   "execution_count": 52,
   "metadata": {},
   "outputs": [
    {
     "name": "stdout",
     "output_type": "stream",
     "text": [
      "invalid number\n",
      "you enter number 13.0\n"
     ]
    }
   ],
   "source": [
    "# Your code here\n",
    "while True:\n",
    "    try:\n",
    "        number = float(input(\"Enter a valid number: \"))\n",
    "        print('you enter number', number)\n",
    "        break\n",
    "    except ValueError:\n",
    "        print(\"invalid number\")"
   ]
  },
  {
   "cell_type": "markdown",
   "metadata": {},
   "source": [
    "\n",
    "\n",
    "### Bonus Exercise 4: Log Errors to File\n",
    "Modify your error handling to log errors to a text file instead of printing them to the console.\n",
    "\n"
   ]
  },
  {
   "cell_type": "code",
   "execution_count": 73,
   "metadata": {},
   "outputs": [
    {
     "name": "stdout",
     "output_type": "stream",
     "text": [
      "number: 0.0\n"
     ]
    }
   ],
   "source": [
    "# Your code here\n",
    "while True:\n",
    "    try:\n",
    "        number = float(input(\"Enter number: \"))\n",
    "        print(\"number:\", number)\n",
    "        break\n",
    "    except ValueError as e:\n",
    "        with open(\"log3.txt\", \"a\") as f:\n",
    "            f.write(\"Error: input not correct\\n\")\n",
    "            f.write(f\"Exception details: {e}\\n\")\n",
    "\n",
    "       "
   ]
  },
  {
   "cell_type": "markdown",
   "metadata": {},
   "source": [
    "\n",
    "\n",
    "### Bonus Exercise 5: Retry Logic on Exception\n",
    "Implement retry logic for operations that could fail, allowing users to try again after encountering an error.\n",
    "\n"
   ]
  },
  {
   "cell_type": "code",
   "execution_count": 75,
   "metadata": {},
   "outputs": [
    {
     "name": "stdout",
     "output_type": "stream",
     "text": [
      "invalid number\n",
      "invalid number\n",
      "invalid number\n"
     ]
    }
   ],
   "source": [
    "# Your code here\n",
    "max_times = 3\n",
    "times = 0\n",
    "\n",
    "while times < max_times:\n",
    "    try:\n",
    "        number = float(input(\"Enter a valid number: \"))\n",
    "        print('you enter number', number)\n",
    "        break\n",
    "    except ValueError:\n",
    "        print(\"invalid number\")\n",
    "        times += 1\n"
   ]
  }
 ],
 "metadata": {
  "kernelspec": {
   "display_name": "base",
   "language": "python",
   "name": "python3"
  },
  "language_info": {
   "codemirror_mode": {
    "name": "ipython",
    "version": 3
   },
   "file_extension": ".py",
   "mimetype": "text/x-python",
   "name": "python",
   "nbconvert_exporter": "python",
   "pygments_lexer": "ipython3",
   "version": "3.12.7"
  }
 },
 "nbformat": 4,
 "nbformat_minor": 2
}
